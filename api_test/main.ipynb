{
 "cells": [
  {
   "cell_type": "code",
   "execution_count": null,
   "metadata": {},
   "outputs": [],
   "source": [
    "\"\"\"Create a Flask instance called \"app\"\n",
    "Under the Flask instance, include this snippet to set the database: python app.config[\"db\"] = super_df\n",
    "Use the @ app.route decorator to create an endpoint of \"/see_stats\", with a method of \"GET\".\n",
    "\n",
    "Under the decorator, write a function that allows a user to query by name, superpower, and / or weakness.\n",
    "Use the @ app.route decorator to create an endpoint of \"/add_stats\", with a method of \"POST\".\n",
    "\n",
    "Under the decorator, write a function that allows a user to add a new superhero.\n",
    "In the function, include an if/else statement that only includes the new superhero if name, superpower, and weakness are all present. If all three aren't there, the new entry isn't included in the database.\n",
    "You can decide what the function will return to the user when the post is successful, and when it isn't.\n",
    "Be sure to include the following snippet at the bottom of your main.py file, and test the app runs on localhost port 5050 when you run the file\n",
    "\"\"\""
   ]
  },
  {
   "cell_type": "code",
   "execution_count": null,
   "metadata": {},
   "outputs": [],
   "source": [
    "import pandas as pd\n",
    "from datetime import datetime as dt\n",
    "from flask import Flask, request\n",
    "import json\n"
   ]
  },
  {
   "cell_type": "code",
   "execution_count": null,
   "metadata": {},
   "outputs": [],
   "source": [
    "# create a dictionary containing superhero information\n",
    "super_data = [\n",
    "    {\"name\": \"Rogue\", \"superpower\": \"Can absorb others powers\",\n",
    "        \"weakness\": \"fragility of her broken mind\"},\n",
    "    {\"name\": \"Psylocke\", \"superpower\": \" telepathy, psychic knife\",\n",
    "        \"weakness\": \"abilities are tied to emotions\"},\n",
    "    {\"name\": \"Kitty Pryde\", \"superpower\": \"Phasing\",\n",
    "        \"weakness\": \"inability to control powers\"}\n",
    "]\n",
    "\n",
    "\n",
    "# turn said dictionary into a dataframe\n",
    "super_df = pd.DataFrame(super_data)\n",
    "# set index to the column name\n",
    "super_df.set_index(keys=\"name\", drop=False, inplace=True)\n"
   ]
  },
  {
   "cell_type": "code",
   "execution_count": null,
   "metadata": {},
   "outputs": [],
   "source": [
    "\"\"\"Create Flask app and set up the database\"\"\"\n",
    "app = Flask(__name__)\n",
    "# set debug to respond\n",
    "app.config[\"DEBUG\"] = True\n",
    "app.config[\"db\"] = super_df"
   ]
  },
  {
   "cell_type": "code",
   "execution_count": null,
   "metadata": {},
   "outputs": [],
   "source": [
    "\n",
    "@app.route('/see_stats')\n",
    "def see_stats():\n",
    "    \"\"\"GET the superhero stats\"\"\"\n",
    "    # call on the dataframe\n",
    "    global super_df\n",
    "    # set arguements for the name, superpower, and weakness\n",
    "    name = request.args.get('name', default='Bri')\n",
    "    superpower = request.args.get(\"superpower\", default=\"Slay all day\")\n",
    "    weakness = request.args.get(\"weakness\", default=\"come closer and find out\")\n",
    "    # narrow down the results by name\n",
    "    if name is not 'Bri':\n",
    "        result_df = super_df.loc[super_df[\"name\"] == name]\n",
    "        json_data = request.json\n",
    "        result_df[\"input_data\"] = json_data\n",
    "    elif superpower is not \"Slay all day\":\n",
    "        # narrow down the results by superpower\n",
    "        result_df = super_df.loc[super_df['superpower'] == superpower]\n",
    "    elif weakness is not \"come closer and find out\":\n",
    "        # narrow down the results by superpower\n",
    "        result_df = super_df.loc[super_df['weakness'] == weakness]\n",
    "    else:\n",
    "        # returns the entire dataframe\n",
    "        result_df = super_df\n",
    "        return \"We have no knowledge of that in witch you speak\"\n",
    "    # create the response json\n",
    "    resp_json = {\"query_name\": name,\n",
    "                \"result\": result_df.to_dict(orient=\"records\")}\n",
    "    # set the response headers\n",
    "    resp_headers = {\"content-type\": \"application/json\"}\n",
    "    return resp_json, 200, resp_headers\n",
    "\n"
   ]
  },
  {
   "cell_type": "code",
   "execution_count": null,
   "metadata": {},
   "outputs": [],
   "source": [
    "\"\"\"write a function that allows a user to query by name, superpower, and / or weakness.\"\"\"\n"
   ]
  },
  {
   "cell_type": "code",
   "execution_count": null,
   "metadata": {},
   "outputs": [],
   "source": [
    "@app.route(\"/add_stats\", methods = ['POST'])\n",
    "def add_stats():\n",
    "    \"\"\"function to add heros to the database\"\"\"\n",
    "    # get db from flask cache\n",
    "    global super_df\n",
    "    try: \n",
    "        # placeholders to return results later\n",
    "        new_recruits = []\n",
    "        hard_pass = []\n",
    "\n",
    "        # iterate through the request\n",
    "        data = request.json\n",
    "        for hero in data:\n",
    "            # double check to see if alll required information is present\n",
    "            if ('name' in hero) and ('superpower' in hero) and ('weakness' in hero):\n",
    "                # sets the index for the new hero to their name\n",
    "                index = hero['name']\n",
    "                # give them their own row\n",
    "                super_df.loc[hero['name']] = hero\n",
    "                # add them to the roster\n",
    "                new_recruits.append(hero)\n",
    "            else:\n",
    "                # sorry, next time come back with full data\n",
    "                hard_pass.append(hero)\n",
    "        # generate the response\n",
    "        resp_json = {\"heroes_added\": len(new_recruits),\n",
    "                    \"new_team\": new_recruits,\n",
    "                    \"reject_pile\": hard_pass}\n",
    "        # response headers\n",
    "        resp_headers = {\"content-type\": \"application/json\"}\n",
    "        # return status as ok\n",
    "        return resp_json, 200,resp_headers\n",
    "\n",
    "    except Exception as err:\n",
    "        # return error. does not compute\n",
    "        return {\"status\": 'error',\n",
    "                \"error_msg\": str(err)}, 400, {\n",
    "                \"content-type\": 'application/json'}"
   ]
  },
  {
   "cell_type": "code",
   "execution_count": null,
   "metadata": {},
   "outputs": [],
   "source": [
    "if __name__ == '__main__':\n",
    "    \"\"\"Be sure to include the following snippet at the bottom of your main.py file, and test the app runs on localhost port 5050 when you run the file\"\"\"\n",
    "    app.run('0.0.0.0', 5050)\n"
   ]
  }
 ],
 "metadata": {
  "interpreter": {
   "hash": "476bd65c04ff1c65eb2964c2f64c280c000610765f60670fd5f2d1226d424287"
  },
  "kernelspec": {
   "display_name": "Python 3.7.13 ('venv': venv)",
   "language": "python",
   "name": "python3"
  },
  "language_info": {
   "codemirror_mode": {
    "name": "ipython",
    "version": 3
   },
   "file_extension": ".py",
   "mimetype": "text/x-python",
   "name": "python",
   "nbconvert_exporter": "python",
   "pygments_lexer": "ipython3",
   "version": "3.7.13"
  },
  "orig_nbformat": 4
 },
 "nbformat": 4,
 "nbformat_minor": 2
}
